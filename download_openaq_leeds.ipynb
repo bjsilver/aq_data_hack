{
 "cells": [
  {
   "cell_type": "markdown",
   "id": "0df7c08e-1b34-4b6f-a522-6a790d2dca81",
   "metadata": {},
   "source": [
    "# Air Quality Data Hack\n",
    "\n",
    "## Downloading data from OpenAQ\n",
    "\n",
    "This notebook uses the OpenAQ API to download data from within a 25km radius of Leeds city centre and recorded data during 2020-2023\n",
    "\n",
    "### Create the API query\n",
    "Start by repeating the same steps as in `explore_openaq_data.ipynb` "
   ]
  },
  {
   "cell_type": "code",
   "execution_count": 3,
   "id": "1d14d82d-d9bf-4862-b7d2-f9fad05131e1",
   "metadata": {},
   "outputs": [],
   "source": [
    "# import the necessary packages and initialise the OpenAQ client with your password\n",
    "import openaq\n",
    "import yaml\n",
    "import pandas as pd\n",
    "from ufuncs import response_to_dataframe, download_measurement_data\n",
    "import os\n",
    "    \n",
    "# first retrieve your API key\n",
    "with open(\"./config.yml\", 'r') as ymlfile:\n",
    "    API_KEY = yaml.safe_load(ymlfile)['openaq_api_key']\n",
    "\n",
    "# initialise the OpenAQ client. This connects to the API\n",
    "client = openaq.OpenAQ(api_key=API_KEY)"
   ]
  },
  {
   "cell_type": "code",
   "execution_count": 6,
   "id": "8fb7273c-e7cb-4e96-a528-834689d10590",
   "metadata": {},
   "outputs": [
    {
     "name": "stdout",
     "output_type": "stream",
     "text": [
      "There were 76 locations found within 25km of Leeds\n"
     ]
    }
   ],
   "source": [
    "# first find the locations within 25km of Leeds\n",
    "LEEDS_LATLON = (53.7953, -1.5455)\n",
    "\n",
    "response = client.locations.list(radius=25000, coordinates=LEEDS_LATLON)\n",
    "leeds_locations = response_to_dataframe(response)\n",
    "\n",
    "print(f'There were {len(leeds_locations)} locations found within 25km of Leeds')"
   ]
  },
  {
   "cell_type": "markdown",
   "id": "56e84ce5-25f5-42f2-b7a9-134fce3a6e52",
   "metadata": {},
   "source": [
    "***\n",
    "### Download the Leeds data\n",
    "The API query returned a list of all the locations within 20km of Leeds, which we converted into a pandas DataFrame. The DataFrame's index (`id`) is a unique identifier of each station. Using these ids, we can request the data from the OpenAQ API"
   ]
  },
  {
   "cell_type": "markdown",
   "id": "5c25d151-9141-4441-b2a7-ca7f67b38b1b",
   "metadata": {},
   "source": [
    "<div class=\"alert alert-block alert-warning\">\n",
    "<b>Warning:</b> Downloading data using the Python OpenAQ package is currently unsupported as the package is in its early stages. Instead we will use a custom function. </div>"
   ]
  },
  {
   "cell_type": "markdown",
   "id": "61353bc7-8c1e-458c-acad-e4c7d8c7481a",
   "metadata": {},
   "source": [
    "We will use the function `download_location_data` which requires as input your `API_KEY`, and a `locations_metadata` argument, which should be the row from the `locations_df` DataFrame that corresponds to the location you wish to download the data for. Let's download data for the nearest location the `LEEDS_LATLON` first"
   ]
  },
  {
   "cell_type": "code",
   "execution_count": 7,
   "id": "9f0e420d-b438-4920-9227-3e66ab06e214",
   "metadata": {},
   "outputs": [
    {
     "name": "stdout",
     "output_type": "stream",
     "text": [
      "the first row of the dataframe is:\n",
      "name                                         SL003 - Corn Exchange Cabinet\n",
      "locality                                                              None\n",
      "timezone                                                     Europe/London\n",
      "is_mobile                                                            False\n",
      "is_monitor                                                           False\n",
      "instruments                        [{'id': 3, 'name': 'PurpleAir Sensor'}]\n",
      "sensors                  [{'id': 5196768, 'name': 'pressure mb', 'param...\n",
      "bounds                        [-1.540428, 53.796494, -1.540428, 53.796494]\n",
      "distance                                                        359.676479\n",
      "country.id                                                             145\n",
      "country.code                                                            GB\n",
      "country.name                                                United Kingdom\n",
      "owner.id                                                                 6\n",
      "owner.name                                  Unknown Community Organization\n",
      "provider.id                                                            215\n",
      "provider.name                                                    PurpleAir\n",
      "coordinates.latitude                                             53.796494\n",
      "coordinates.longitude                                            -1.540428\n",
      "datetime_first.utc                               2022-05-31T10:19:11+00:00\n",
      "datetime_first.local                             2022-05-31T11:19:11+01:00\n",
      "datetime_last.utc                                2024-03-07T13:31:00+00:00\n",
      "datetime_last.local                              2024-03-07T13:31:00+00:00\n",
      "Name: 345275, dtype: object\n"
     ]
    }
   ],
   "source": [
    "# first sort locations_df by the 'distance' column so the nearest is at the top\n",
    "leeds_locations = leeds_locations.sort_values('distance')\n",
    "\n",
    "# save this dataframe as it will be useful in the next notebook\n",
    "leeds_locations.to_csv('./metadata/leeds_locations.csv')\n",
    "\n",
    "print('the first row of the dataframe is:')\n",
    "print(leeds_locations.iloc[0])"
   ]
  },
  {
   "cell_type": "markdown",
   "id": "7cbcfb5b-6589-4e99-919f-49cc112bcbcc",
   "metadata": {},
   "source": [
    "It looks like the first location in the DataFrame is a PurpleAir monitoring station from the Corn Exchange, which has an `id` of 345275"
   ]
  },
  {
   "cell_type": "code",
   "execution_count": 5,
   "id": "24548d46-07b6-4f16-bed9-2006338c4fca",
   "metadata": {},
   "outputs": [
    {
     "name": "stdout",
     "output_type": "stream",
     "text": [
      "this station contains data for: \n",
      "          id                 name  ...  parameter.units parameter.display_name\n",
      "0   5196767           humidity %  ...                %                      H\n",
      "1   5196770        temperature f  ...                f        Temperature (F)\n",
      "2   5196766  um050 particles/cm³  ...    particles/cm³            PM5.0 count\n",
      "3   5196765  um005 particles/cm³  ...    particles/cm³                  PM0.5\n",
      "4   1966105            pm1 µg/m³  ...            µg/m³                    PM1\n",
      "5   5196764  um003 particles/cm³  ...    particles/cm³            PM0.3 count\n",
      "6   1966103  um010 particles/cm³  ...    particles/cm³              PM1 count\n",
      "7   1966104  um025 particles/cm³  ...    particles/cm³            PM2.5 count\n",
      "8   1966102           pm25 µg/m³  ...            µg/m³                  PM2.5\n",
      "9   1966107           pm10 µg/m³  ...            µg/m³                   PM10\n",
      "10  1966106  um100 particles/cm³  ...    particles/cm³             PM10 count\n",
      "11  5196768          pressure mb  ...               mb               Pressure\n",
      "\n",
      "[12 rows x 6 columns]\n"
     ]
    }
   ],
   "source": [
    "print(f'this station contains data for: \\n {pd.json_normalize(first_row.sensors)}')"
   ]
  },
  {
   "cell_type": "markdown",
   "id": "1177901f-a621-4db9-bf50-4d1a9eef9064",
   "metadata": {},
   "source": [
    "The measurement station contains data for PM0.5, PM1, PM2.5 and PM10, among other parameters.\n",
    "Each parameter has an `id`, which is a number assigned to the parameter (e.g. PM10 is 1). This can be used to select which parameters to be download. We can a list of parameters and their corresponding `id` from the API:"
   ]
  },
  {
   "cell_type": "code",
   "execution_count": 6,
   "id": "3dee176d-d30a-4b52-8c80-6c665bda6945",
   "metadata": {},
   "outputs": [
    {
     "name": "stdout",
     "output_type": "stream",
     "text": [
      "                   name  ...                                        description\n",
      "id                       ...                                                   \n",
      "1                  pm10  ...  Particulate matter less than 10 micrometers in...\n",
      "2                  pm25  ...  Particulate matter less than 2.5 micrometers i...\n",
      "3                    o3  ...                           Ozone mass concentration\n",
      "4                    co  ...                 Carbon Monoxide mass concentration\n",
      "5                   no2  ...                Nitrogen Dioxide mass concentration\n",
      "6                   so2  ...                  Sulfur Dioxide mass concentration\n",
      "7                   no2  ...                     Nitrogen Dioxide concentration\n",
      "8                    co  ...                      Carbon Monoxide concentration\n",
      "9                   so2  ...                       Sulfur Dioxide concentration\n",
      "10                   o3  ...                                Ozone concentration\n",
      "11                   bc  ...                    Black Carbon mass concentration\n",
      "15                  no2  ...                                               None\n",
      "19                  pm1  ...  Particulate matter less than 1 micrometer in d...\n",
      "21                  co2  ...                       Carbon Dioxide concentration\n",
      "24                   no  ...                                               None\n",
      "27                  nox  ...                 Nitrogen Oxides mass concentration\n",
      "35                   no  ...                    Nitrogen Monoxide concentration\n",
      "95             pressure  ...                 Atmospheric or barometric pressure\n",
      "97             pm25-old  ...                                               None\n",
      "98     relativehumidity  ...                                               None\n",
      "100         temperature  ...                                               None\n",
      "125               um003  ...                                               None\n",
      "126               um010  ...                                          PM1 count\n",
      "128         temperature  ...                                               None\n",
      "129               um050  ...                                        PM5.0 count\n",
      "130               um025  ...                                        PM2.5 count\n",
      "132            pressure  ...                                               None\n",
      "133               um005  ...                                               None\n",
      "134            humidity  ...                                               None\n",
      "135               um100  ...                                         PM10 count\n",
      "150                 voc  ...                                               None\n",
      "676               ozone  ...                                               None\n",
      "19840               nox  ...                      Nitrogen Oxides concentration\n",
      "19843                no  ...               Nitrogen Monoxide mass concentration\n",
      "19844               pm4  ...  Particulate matter less than 4 micrometers in ...\n",
      "19860              pm25  ...                                               None\n",
      "\n",
      "[36 rows x 4 columns]\n"
     ]
    }
   ],
   "source": [
    "parameter_map = response_to_dataframe(client.parameters.list())\n",
    "print(parameter_map)"
   ]
  },
  {
   "cell_type": "markdown",
   "id": "9be8caf4-36ce-464b-9345-f7a13c192abc",
   "metadata": {},
   "source": [
    "This shows all the possible parameters in the OpenAQ database. However, not all will be available at every location. From our chosen location (`id` = 345257), we will download PM1 and PM2.5, using the `download_measurement_data` function. The `datetime_first` and `datetime_last` fields in the metadata show that this station began reporting in May 2022. So we should be able to download the data for 2023:"
   ]
  },
  {
   "cell_type": "code",
   "execution_count": 8,
   "id": "3749054f-7249-4429-a92a-fc6768645343",
   "metadata": {},
   "outputs": [
    {
     "name": "stdout",
     "output_type": "stream",
     "text": [
      "downloading data for parameter id: 2\n",
      ".......year: 2023 downloaded\n",
      "downloading data for parameter id: 19\n",
      ".......year: 2023 downloaded\n"
     ]
    },
    {
     "data": {
      "text/plain": [
       "<Axes: xlabel='datetime'>"
      ]
     },
     "execution_count": 8,
     "metadata": {},
     "output_type": "execute_result"
    },
    {
     "data": {
      "image/png": "[encoded data removed]",
      "text/plain": [
       "<Figure size 720x432 with 1 Axes>"
      ]
     },
     "metadata": {},
     "output_type": "display_data"
    }
   ],
   "source": [
    "df = download_measurement_data(locations_id=345275, \n",
    "                               # dates in YYYY-MM-DD formats\n",
    "                              date_from='2023-01-01',\n",
    "                              date_to='2023-12-31',\n",
    "                              parameters_id=[2,19], \n",
    "                              client=client)\n",
    "# this will take a few seconds as it is downloading a year of hourly data...\n",
    "df[['pm25', 'pm1']].plot(ls='', marker='.', figsize=[10,6])"
   ]
  },
  {
   "cell_type": "markdown",
   "id": "b6a08e66-5f6e-4404-b21f-549ce1b2ef23",
   "metadata": {},
   "source": [
    "A quick plot shows we've downloaded the data as expected! There are a few gaps in the data where the monitor stopped recording. As expected the PM1 concentrations are lower than PM25, as PM1 is always a subset of PM25 mass. The units are µg/m3, which can be verified by checking the metadata.\n",
    "\n",
    "Now we can repeat this process for all the other locations with 20km of the city center. Some of the locations might have started recording after 1st January 2020, so won't have a complete timeseries, so we can filter the `leeds_locations` DataFrame to remove these:"
   ]
  },
  {
   "cell_type": "markdown",
   "id": "01b9b5e3-79fb-4196-a245-aa8104438ccf",
   "metadata": {},
   "source": [
    "There are only 14 locations remaining! This shows most of the low cost sensors were added to OpenAQ recently. Now we can loop over the dataframe, downloading the data and saving it to disk as csv files. Some of the stations have NO2, O3 and SO2 data, so we will include this in the download. Some of the locations have data going back to 2016, so we can include this in the download."
   ]
  },
  {
   "cell_type": "code",
   "execution_count": 21,
   "id": "ecf105c8-e1a8-4417-9fd1-9f497f09eeae",
   "metadata": {},
   "outputs": [
    {
     "name": "stdout",
     "output_type": "stream",
     "text": [
      "location 345275 already downloaded\n",
      "location 1178169 already downloaded\n",
      "location 605494 already downloaded\n",
      "location 1849783 already downloaded\n",
      "location 2523 already downloaded\n",
      "location 433460 already downloaded\n",
      "location 353402 already downloaded\n",
      "location 364323 already downloaded\n",
      "location 299088 already downloaded\n",
      "location 299249 already downloaded\n",
      "location 66170 already downloaded\n",
      "location 364639 already downloaded\n",
      "location 1805099 already downloaded\n",
      "location 2390259 already downloaded\n",
      "location 299186 already downloaded\n",
      "location 1117241 already downloaded\n",
      "location 370575 already downloaded\n",
      "location 353824 already downloaded\n",
      "location 921334 already downloaded\n",
      "location 1727287 already downloaded\n",
      "location 1396 already downloaded\n",
      "location 1145619 already downloaded\n",
      "location 358633 already downloaded\n",
      "location 722304 already downloaded\n",
      "location 1117242 already downloaded\n",
      "location 639544 already downloaded\n",
      "location 1434796 already downloaded\n",
      "location 363445 already downloaded\n",
      "location 1567818 already downloaded\n",
      "location 366973 already downloaded\n",
      "location 678611 already downloaded\n",
      "location 363107 already downloaded\n",
      "location 722338 already downloaded\n",
      "location 1117412 already downloaded\n",
      "location 363547 already downloaded\n",
      "location 363446 already downloaded\n",
      "location 363594 already downloaded\n",
      "location 354226 already downloaded\n",
      "location 363017 already downloaded\n",
      "location 356433 already downloaded\n",
      "location 225091 already downloaded\n",
      "location 736228 already downloaded\n",
      "location 363016 already downloaded\n",
      "location 639600 already downloaded\n",
      "location 792691 already downloaded\n",
      "location 354384 already downloaded\n",
      "location 278190 already downloaded\n",
      "downloading data for parameter id: 2\n",
      "year: 2023 downloaded\n",
      "downloading data for parameter id: 19\n",
      "year: 2023 downloaded\n",
      "no data found for location: 1381071\n",
      "location 299932 already downloaded\n",
      "location 355903 already downloaded\n",
      "location 678683 already downloaded\n",
      "location 284496 already downloaded\n",
      "downloading data for parameter id: 19\n",
      "..year: 2023 downloaded\n",
      "..year: 2024 downloaded\n",
      "downloading data for parameter id: 2\n",
      "..year: 2023 downloaded\n",
      "..year: 2024 downloaded\n",
      "downloaded data for location: 1722814\n",
      "location 820395 already downloaded\n",
      "location 71003 already downloaded\n",
      "location 398588 already downloaded\n",
      "location 220761 already downloaded\n",
      "location 2301 already downloaded\n",
      "location 287221 already downloaded\n",
      "location 390565 already downloaded\n",
      "location 919036 already downloaded\n",
      "location 363596 already downloaded\n",
      "location 236417 already downloaded\n",
      "location 354444 already downloaded\n",
      "location 220515 already downloaded\n",
      "location 223977 already downloaded\n",
      "location 70185 already downloaded\n",
      "location 273187 already downloaded\n",
      "location 298494 already downloaded\n",
      "location 230368 already downloaded\n",
      "location 288416 already downloaded\n",
      "location 359023 already downloaded\n",
      "location 358794 already downloaded\n",
      "location 73013 already downloaded\n",
      "location 356019 already downloaded\n",
      "location 269034 already downloaded\n"
     ]
    }
   ],
   "source": [
    "desired_parameters = [2, 19, 3, 5, 6]\n",
    "for locations_id, location_metadata in leeds_locations.iterrows():\n",
    "\n",
    "    save_path = f'./data/location_{locations_id}_data.csv'\n",
    "    # check if station already downloaded\n",
    "    if os.path.exists(save_path):\n",
    "        print('location', locations_id, 'already downloaded')\n",
    "        continue\n",
    "\n",
    "    # check which parameters available for location\n",
    "    parameters_in = [d['parameter']['id'] for d in location_metadata.sensors]\n",
    "    # and make a list of the parameters which are desired AND available\n",
    "    params = [p for p in parameters_in if p in desired_parameters]\n",
    "    \n",
    "\n",
    "    df = download_measurement_data(locations_id=locations_id, \n",
    "                              \n",
    "                              date_from=location_metadata.loc['datetime_first.utc'],\n",
    "                              date_to=location_metadata.loc['datetime_last.utc'],\n",
    "                              parameters_id=params,  # including parameter ids for NO2, O3, SO2\n",
    "                              client=client)\n",
    "\n",
    "    # if data is downloaded\n",
    "    if df is not None:\n",
    "        df.to_csv(save_path)\n",
    "        print('downloaded data for location:', locations_id)\n",
    "    # sometimes no data is downloaded\n",
    "    else:\n",
    "        print('no data found for location:', locations_id)"
   ]
  },
  {
   "cell_type": "code",
   "execution_count": null,
   "id": "b047e5bf-96e4-431a-b804-f11bd2a8cb18",
   "metadata": {},
   "outputs": [],
   "source": []
  }
 ],
 "metadata": {
  "kernelspec": {
   "display_name": "Python 3 (Spyder)",
   "language": "python3",
   "name": "python3"
  },
  "language_info": {
   "codemirror_mode": {
    "name": "ipython",
    "version": 3
   },
   "file_extension": ".py",
   "mimetype": "text/x-python",
   "name": "python",
   "nbconvert_exporter": "python",
   "pygments_lexer": "ipython3",
   "version": "3.11.4"
  }
 },
 "nbformat": 4,
 "nbformat_minor": 5
}
