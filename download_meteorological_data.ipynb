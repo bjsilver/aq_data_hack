{
 "cells": [
  {
   "cell_type": "code",
   "execution_count": 10,
   "id": "9a391839-4c78-41b4-a4be-daa3c427cd28",
   "metadata": {},
   "outputs": [],
   "source": [
    "# Import Meteostat library\n",
    "from meteostat import Stations, Hourly\n",
    "from datetime import datetime\n",
    "import matplotlib.pyplot as plt\n",
    "\n",
    "\n",
    "# Get nearby weather stations\n",
    "stations = Stations()\n",
    "stations = stations.nearby(53.7953, -1.5455)\n",
    "station = stations.fetch(1)"
   ]
  },
  {
   "cell_type": "code",
   "execution_count": 11,
   "id": "f3627f9c-bf42-44be-918c-f5c2b9d821b3",
   "metadata": {},
   "outputs": [],
   "source": [
    "from datetime import datetime\n",
    "import matplotlib.pyplot as plt\n",
    "from meteostat import Stations, Hourly\n",
    "\n",
    "# Set time period\n",
    "start = datetime(2016, 1, 1)\n",
    "end = datetime(2024, 3, 6)\n",
    "\n",
    "# Get daily data\n",
    "data = Hourly('EGNM0', start, end)\n",
    "data = data.fetch()\n",
    "\n"
   ]
  },
  {
   "cell_type": "code",
   "execution_count": 12,
   "id": "4d4b7641-629a-4cc7-9fc5-bb9629d1b799",
   "metadata": {},
   "outputs": [],
   "source": [
    "data.to_csv('./weather_data/LBA_weather_data.csv')"
   ]
  }
 ],
 "metadata": {
  "kernelspec": {
   "display_name": "Python 3 (Spyder)",
   "language": "python3",
   "name": "python3"
  },
  "language_info": {
   "codemirror_mode": {
    "name": "ipython",
    "version": 3
   },
   "file_extension": ".py",
   "mimetype": "text/x-python",
   "name": "python",
   "nbconvert_exporter": "python",
   "pygments_lexer": "ipython3",
   "version": "3.11.4"
  }
 },
 "nbformat": 4,
 "nbformat_minor": 5
}
